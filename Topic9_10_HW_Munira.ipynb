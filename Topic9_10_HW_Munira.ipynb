{
 "cells": [
  {
   "cell_type": "code",
   "execution_count": 1,
   "id": "9618a1aa-94e6-48b8-b24e-cf0968edc58c",
   "metadata": {},
   "outputs": [],
   "source": [
    "import scipy.stats as stats\n",
    "import pandas as pd\n",
    "import numpy as np"
   ]
  },
  {
   "cell_type": "code",
   "execution_count": null,
   "id": "061d7888-f39f-4629-8e35-36f14f800c7b",
   "metadata": {},
   "outputs": [],
   "source": [
    "# nomor 1 (Define H0 and H1)\n",
    "\n",
    "# H0:The average sale after training = $100\n",
    "# H1:The average sale after training > $100"
   ]
  },
  {
   "cell_type": "code",
   "execution_count": null,
   "id": "04e47d7b-651a-4b6a-9bae-9a5676ccf88a",
   "metadata": {},
   "outputs": [],
   "source": []
  },
  {
   "cell_type": "code",
   "execution_count": null,
   "id": "1a1b1e22-4026-4677-b724-fe460b35f824",
   "metadata": {},
   "outputs": [],
   "source": [
    "# nomor 2 (Follow the steps to do T-Test)"
   ]
  },
  {
   "cell_type": "code",
   "execution_count": 2,
   "id": "69660df1-e0bd-4418-b875-d4bb65087824",
   "metadata": {},
   "outputs": [
    {
     "data": {
      "text/plain": [
       "(100,\n",
       " 150,\n",
       " 50,\n",
       " 100,\n",
       " 130,\n",
       " 120,\n",
       " 100,\n",
       " 110,\n",
       " 75,\n",
       " 65,\n",
       " 150,\n",
       " 120,\n",
       " 50,\n",
       " 100,\n",
       " 100,\n",
       " 140,\n",
       " 90,\n",
       " 150,\n",
       " 50,\n",
       " 90)"
      ]
     },
     "execution_count": 2,
     "metadata": {},
     "output_type": "execute_result"
    }
   ],
   "source": [
    "data = (100, 150, 50, 100, 130, 120, 100, 110, 75, 65, 150, 120, 50, 100, 100, 140, 90, 150, 50, 90)\n",
    "data"
   ]
  },
  {
   "cell_type": "code",
   "execution_count": 3,
   "id": "593b116d-45f5-42b8-95b7-94fd2675d84a",
   "metadata": {},
   "outputs": [
    {
     "data": {
      "text/plain": [
       "Ttest_1sampResult(statistic=0.27316577116663854, pvalue=0.7876728941695149)"
      ]
     },
     "execution_count": 3,
     "metadata": {},
     "output_type": "execute_result"
    }
   ],
   "source": [
    "#perform one sample t-test\n",
    "\n",
    "stats.ttest_1samp(a=data, popmean=100)"
   ]
  },
  {
   "cell_type": "code",
   "execution_count": null,
   "id": "955a322a-bd9f-4469-8077-6ae64eee21fd",
   "metadata": {},
   "outputs": [],
   "source": [
    "#statistic = 0.27316577116663854, pvalue = 0.7876728941695149"
   ]
  },
  {
   "cell_type": "code",
   "execution_count": null,
   "id": "9897669f-a439-4510-abbe-1fbb888ea2d8",
   "metadata": {},
   "outputs": [],
   "source": [
    "#For two tailed test:"
   ]
  },
  {
   "cell_type": "code",
   "execution_count": null,
   "id": "fadbae1b-6133-4fa1-b734-940b5154c8d1",
   "metadata": {},
   "outputs": [],
   "source": [
    "#If using alpha = 0.05, then the concolusion is P-value larger than alpha, meaning we fail to reject H0\n",
    "#Conclusion: The mean is equal to 100\n",
    "\n",
    "#If using t statistic, we have to find the critical region first:"
   ]
  },
  {
   "cell_type": "code",
   "execution_count": 4,
   "id": "2114ff20-da4d-438b-9c8e-1818b9e1bafd",
   "metadata": {},
   "outputs": [
    {
     "data": {
      "text/plain": [
       "2.093024054408263"
      ]
     },
     "execution_count": 4,
     "metadata": {},
     "output_type": "execute_result"
    }
   ],
   "source": [
    "stats.t.ppf(1-(0.05/2), 19)"
   ]
  },
  {
   "cell_type": "code",
   "execution_count": null,
   "id": "cba19976-fe60-4ba3-874b-830b48079a86",
   "metadata": {},
   "outputs": [],
   "source": [
    "#For One tailed test:"
   ]
  },
  {
   "cell_type": "code",
   "execution_count": 5,
   "id": "fb1bbef2-d2b4-4233-8b81-5db2d7df6da7",
   "metadata": {},
   "outputs": [
    {
     "data": {
      "text/plain": [
       "0.39383644708475746"
      ]
     },
     "execution_count": 5,
     "metadata": {},
     "output_type": "execute_result"
    }
   ],
   "source": [
    "#pvalue/2\n",
    "0.7876728941695149/2"
   ]
  },
  {
   "cell_type": "code",
   "execution_count": null,
   "id": "01b7d142-24b5-4b55-9583-d387b79492df",
   "metadata": {},
   "outputs": [],
   "source": [
    "#If using alpha = 0.05, use P-value/2 = 0.39. Thee concolusion is P-value/2 larger than alpha, meaning we fail to reject H0\n",
    "#Conclusion: The mean is equal to 100\n",
    "\n",
    "#If using t statistic, we have to find the critical region first:"
   ]
  },
  {
   "cell_type": "code",
   "execution_count": 6,
   "id": "8b6f9aef-5029-4a7f-a6a5-e5db183da34b",
   "metadata": {},
   "outputs": [
    {
     "data": {
      "text/plain": [
       "1.729132811521367"
      ]
     },
     "execution_count": 6,
     "metadata": {},
     "output_type": "execute_result"
    }
   ],
   "source": [
    "# If H1: mean > 100 (right side)\n",
    "stats.t.ppf(1-0.05, 19)"
   ]
  },
  {
   "cell_type": "code",
   "execution_count": 8,
   "id": "c1901da0-e59e-4e62-b56d-b237fcc18d26",
   "metadata": {},
   "outputs": [
    {
     "data": {
      "text/plain": [
       "-1.7291328115213678"
      ]
     },
     "execution_count": 8,
     "metadata": {},
     "output_type": "execute_result"
    }
   ],
   "source": [
    "# If H1: mean < 100 (left side)\n",
    "stats.t.ppf(0.05, 19)"
   ]
  },
  {
   "cell_type": "code",
   "execution_count": null,
   "id": "f22ad236-277c-49c9-aad8-558d6e96f592",
   "metadata": {},
   "outputs": [],
   "source": []
  },
  {
   "cell_type": "code",
   "execution_count": null,
   "id": "b48239a1-0576-4497-a8be-d4b7c88892dc",
   "metadata": {},
   "outputs": [],
   "source": [
    "# nomor 3 (Conclude the result of the campaign testing)"
   ]
  },
  {
   "cell_type": "code",
   "execution_count": null,
   "id": "68bc4851-efa1-4882-a2a8-97eafef5ffc9",
   "metadata": {},
   "outputs": [],
   "source": [
    "# Conclusion For Two tailed test:\n",
    "    # t statistic = 0.27316577116663854\n",
    "    # Critical Region: t < - 2.09 or t > 2.09\n",
    "    # As t statistic is not in the critical region, then we fail to reject H0\n",
    "    # Conclusion: The mean is equal to 100"
   ]
  },
  {
   "cell_type": "code",
   "execution_count": null,
   "id": "5f45124b-62e7-479b-b99b-5bc9c733d53a",
   "metadata": {},
   "outputs": [],
   "source": [
    "# Conclusion For One tailed test:\n",
    "    # t statistic = 0.27316577116663854\n",
    "    # If H1: mean > 100 (right side)\n",
    "    # Critical Region: t < - 2.09 or t > 2.09\n",
    "    # As t statistic is not in the critical region, then we fail to reject H0\n",
    "    # Conclusion: The mean is equal to 100\n",
    "    \n",
    "    # t statistic = 0.27316577116663854\n",
    "    # If H1: mean < 100 (left side)\n",
    "    # Critical Region: t < -1.73\n",
    "    # As t statistic is not in the critical region, then we fail to reject H0\n",
    "    # Conclusion: The mean is equal to 100"
   ]
  }
 ],
 "metadata": {
  "kernelspec": {
   "display_name": "Python 3 (ipykernel)",
   "language": "python",
   "name": "python3"
  },
  "language_info": {
   "codemirror_mode": {
    "name": "ipython",
    "version": 3
   },
   "file_extension": ".py",
   "mimetype": "text/x-python",
   "name": "python",
   "nbconvert_exporter": "python",
   "pygments_lexer": "ipython3",
   "version": "3.9.13"
  }
 },
 "nbformat": 4,
 "nbformat_minor": 5
}
